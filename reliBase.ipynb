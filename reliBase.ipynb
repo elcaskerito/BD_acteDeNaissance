{
 "cells": [
  {
   "cell_type": "code",
   "execution_count": 6,
   "id": "13871688",
   "metadata": {},
   "outputs": [
    {
     "ename": "SyntaxError",
     "evalue": "unexpected EOF while parsing (2748603860.py, line 20)",
     "output_type": "error",
     "traceback": [
      "\u001b[0;36m  File \u001b[0;32m\"/tmp/ipykernel_19396/2748603860.py\"\u001b[0;36m, line \u001b[0;32m20\u001b[0m\n\u001b[0;31m    #con.close()\u001b[0m\n\u001b[0m                ^\u001b[0m\n\u001b[0;31mSyntaxError\u001b[0m\u001b[0;31m:\u001b[0m unexpected EOF while parsing\n"
     ]
    }
   ],
   "source": [
    "#import mysql.connector\n",
    "import sys\n",
    "try:\n",
    "    con = mysql.connector.connect(host=\"127.0.0.1\", user=\"root\", \n",
    "    password=\"root\", \n",
    "    database=\"acte_naissance\")\n",
    "    cursor = con.cursor()\n",
    "    try:\n",
    "              nouveau = (\"samba\" \"mahamt\",\"mamat\",\"marie\", \"garde\",\"salima\", \"celiba\", \"menagere\", \"masculin\", \"biltine\", \"12/02/2313\", \"12:35\") \n",
    "              cursor.execute(\"\"\"INSERT INTO nouveau_ne (nom, prenom, nom_pere, situation_matri_pere, fonction_du_pere, nom_mere, situation_matri_mere, fonction_du_mere, sexe_de_l_enfant, lieu_de_naissance, date_annee_de_naissance, heure_de_naissance) VALUES(%s, %s, %s, %s,%s, %s, %s, %s,%s, %s, %s,%s)\"\"\", nouveau)\n",
    "              con.commit()\n",
    "\n",
    "   \n",
    "   # except mysql.connector.errors.InterfaceError as e:\n",
    "       # print(\"Error %d: %s\" % (e.args[0],e.args[1]))\n",
    "    #sys.exit(1)\n",
    "    finally:\n",
    "   # On ferme la connexion\n",
    "         #if con:\n",
    "                 #con.close()"
   ]
  },
  {
   "cell_type": "code",
   "execution_count": 7,
   "id": "e2695c62",
   "metadata": {},
   "outputs": [
    {
     "ename": "ModuleNotFoundError",
     "evalue": "No module named 'mysql'",
     "output_type": "error",
     "traceback": [
      "\u001b[0;31m---------------------------------------------------------------------------\u001b[0m",
      "\u001b[0;31mModuleNotFoundError\u001b[0m                       Traceback (most recent call last)",
      "\u001b[0;32m/tmp/ipykernel_19396/2395830825.py\u001b[0m in \u001b[0;36m<module>\u001b[0;34m\u001b[0m\n\u001b[0;32m----> 1\u001b[0;31m \u001b[0;32mimport\u001b[0m \u001b[0mmysql\u001b[0m\u001b[0;34m.\u001b[0m\u001b[0mconnector\u001b[0m\u001b[0;34m\u001b[0m\u001b[0;34m\u001b[0m\u001b[0m\n\u001b[0m\u001b[1;32m      2\u001b[0m \u001b[0;32mfrom\u001b[0m \u001b[0mmysql\u001b[0m\u001b[0;34m.\u001b[0m\u001b[0mconnector\u001b[0m \u001b[0;32mimport\u001b[0m \u001b[0merrorcode\u001b[0m\u001b[0;34m\u001b[0m\u001b[0;34m\u001b[0m\u001b[0m\n\u001b[1;32m      3\u001b[0m \u001b[0;34m\u001b[0m\u001b[0m\n\u001b[1;32m      4\u001b[0m config = {\n\u001b[1;32m      5\u001b[0m     \u001b[0;34m'user'\u001b[0m\u001b[0;34m:\u001b[0m \u001b[0;34m'root'\u001b[0m\u001b[0;34m,\u001b[0m\u001b[0;34m\u001b[0m\u001b[0;34m\u001b[0m\u001b[0m\n",
      "\u001b[0;31mModuleNotFoundError\u001b[0m: No module named 'mysql'"
     ]
    }
   ],
   "source": [
    "import mysql.connector\n",
    "from mysql.connector import errorcode\n",
    "\n",
    "config = {\n",
    "    'user': 'root',\n",
    "    'password': '',\n",
    "    'host': '127.0.0.1',\n",
    "    'database': 'test'\n",
    "}\n",
    "\n",
    "cnx = cur = None\n",
    "try:\n",
    "    cnx = mysql.connector.connect(**config)\n",
    "except mysql.connector.Error as err:\n",
    "    if err.errno == errorcode.ER_ACCESS_DENIED_ERROR:\n",
    "        print('Something is wrong with your user name or password')\n",
    "    elif err.errno == errorcode.ER_BAD_DB_ERROR:\n",
    "        print(\"Database does not exist\")\n",
    "    else:\n",
    "        print(err)\n",
    "else:\n",
    "    cur = cnx.cursor()\n",
    "    cur.execute('show databases;')\n",
    "    for row in cur.fetchall():\n",
    "        print(row)\n",
    "finally:\n",
    "    if cur:\n",
    "        cur.close()\n",
    "    if cnx:\n",
    "        cnx.close()"
   ]
  },
  {
   "cell_type": "code",
   "execution_count": null,
   "id": "78131fd9",
   "metadata": {},
   "outputs": [],
   "source": []
  }
 ],
 "metadata": {
  "kernelspec": {
   "display_name": "Python 3 (ipykernel)",
   "language": "python",
   "name": "python3"
  },
  "language_info": {
   "codemirror_mode": {
    "name": "ipython",
    "version": 3
   },
   "file_extension": ".py",
   "mimetype": "text/x-python",
   "name": "python",
   "nbconvert_exporter": "python",
   "pygments_lexer": "ipython3",
   "version": "3.8.8"
  }
 },
 "nbformat": 4,
 "nbformat_minor": 5
}
